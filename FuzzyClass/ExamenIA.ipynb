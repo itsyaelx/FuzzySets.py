{
 "cells": [
  {
   "cell_type": "code",
   "execution_count": null,
   "metadata": {},
   "outputs": [],
   "source": [
    "from cleanclass import  FuzzySets\n",
    "from expertSystem import ExpertSystem"
   ]
  },
  {
   "cell_type": "code",
   "execution_count": null,
   "metadata": {},
   "outputs": [],
   "source": [
    "#Cantidad de autos\n",
    "nucleos = [0, 2, 8, 8, 14, 16]\n",
    "soportes = [0, 8, 2, 14, 8, 16]\n",
    "\n",
    "cantidad = FuzzySets(nucleos, soportes, \"Cantidad\")"
   ]
  },
  {
   "cell_type": "code",
   "execution_count": null,
   "metadata": {},
   "outputs": [],
   "source": [
    "#Frecuencia\n",
    "nucleos = [0, 10, 20, 20, 30, 30, 40, 50]\n",
    "soportes = [0, 20, 15, 30, 20, 35, 30, 50]\n",
    "\n",
    "frecuencia = FuzzySets(nucleos, soportes, \"Frecuencia\")"
   ]
  },
  {
   "cell_type": "code",
   "execution_count": null,
   "metadata": {},
   "outputs": [],
   "source": [
    "#Tiempo\n",
    "nucleos = [7, 7, 20, 20, 25, 25, 38, 38]\n",
    "soportes = [0, 20, 7, 25, 20, 38, 25, 45]\n",
    "\n",
    "tiempo = FuzzySets(nucleos, soportes, \"Tiempo\")"
   ]
  },
  {
   "cell_type": "code",
   "execution_count": null,
   "metadata": {},
   "outputs": [],
   "source": [
    "sistemaExperto = [  \"AAA\",\n",
    "                    \"ABA\",\n",
    "                    \"ACB\", \n",
    "                    \"ADB\",\n",
    "                    \"BAA\",\n",
    "                    \"BBC\",\n",
    "                    \"BCC\",\n",
    "                    \"BDC\", \n",
    "                    \"CAB\", \n",
    "                    \"CBC\", \n",
    "                    \"CCD\",\n",
    "                    \"CDD\"]\n",
    "\n",
    "experto = ExpertSystem(sistemaExperto, cantidad, frecuencia, tiempo)"
   ]
  },
  {
   "cell_type": "code",
   "execution_count": null,
   "metadata": {},
   "outputs": [],
   "source": [
    "segmento = experto.getSegment(6, 7)\n",
    "print(\"Resultado\")\n",
    "print(segmento.defuzzyLOM())"
   ]
  }
 ],
 "metadata": {
  "kernelspec": {
   "display_name": "Python 3",
   "language": "python",
   "name": "python3"
  },
  "language_info": {
   "codemirror_mode": {
    "name": "ipython",
    "version": 3
   },
   "file_extension": ".py",
   "mimetype": "text/x-python",
   "name": "python",
   "nbconvert_exporter": "python",
   "pygments_lexer": "ipython3",
   "version": "3.11.0"
  },
  "orig_nbformat": 4
 },
 "nbformat": 4,
 "nbformat_minor": 2
}
